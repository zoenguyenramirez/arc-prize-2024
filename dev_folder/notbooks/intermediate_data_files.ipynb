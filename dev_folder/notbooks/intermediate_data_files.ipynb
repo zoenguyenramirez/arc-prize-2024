{
 "cells": [
  {
   "cell_type": "code",
   "execution_count": null,
   "id": "b823733c-b7d2-4ba9-a6df-bae6b3b94038",
   "metadata": {},
   "outputs": [],
   "source": [
    "import os\n",
    "import sys\n",
    "\n",
    "# Add the project root directory to sys.path\n",
    "project_root = os.path.abspath(os.path.join(os.getcwd(), '..'))\n",
    "sys.path.append(project_root)"
   ]
  },
  {
   "cell_type": "code",
   "execution_count": null,
   "id": "15ecc9bf-e464-4cc3-bbb3-482072773e32",
   "metadata": {},
   "outputs": [],
   "source": [
    "import torch\n",
    "\n",
    "# previous_dataset = torch.load(\"../intermediate_data/prepared_dataset_using_synthesized_data.pth\")\n",
    "current_dataset = torch.load(\"../intermediate_data/prepared_dataset.pth\")"
   ]
  },
  {
   "cell_type": "code",
   "execution_count": null,
   "id": "6b25be5c-8731-4d1c-a3e2-c4879386a7d9",
   "metadata": {},
   "outputs": [],
   "source": [
    "print(current_dataset.keys())"
   ]
  },
  {
   "cell_type": "code",
   "execution_count": null,
   "id": "03bc866a-0efd-4771-93ae-d23cc5d11abc",
   "metadata": {},
   "outputs": [],
   "source": [
    "print(current_dataset['data_sources'])"
   ]
  },
  {
   "cell_type": "code",
   "execution_count": null,
   "id": "1c2e402f-11ac-4ae9-9cf7-f72786e518e7",
   "metadata": {},
   "outputs": [],
   "source": [
    "print(current_dataset['source_ranges'].keys())"
   ]
  },
  {
   "cell_type": "code",
   "execution_count": null,
   "id": "cf909c01-60f0-4efd-9d6e-08ae3b970f1b",
   "metadata": {},
   "outputs": [],
   "source": [
    "print(current_dataset.keys())"
   ]
  }
 ],
 "metadata": {
  "kernelspec": {
   "display_name": "Python 3 (ipykernel)",
   "language": "python",
   "name": "python3"
  },
  "language_info": {
   "codemirror_mode": {
    "name": "ipython",
    "version": 3
   },
   "file_extension": ".py",
   "mimetype": "text/x-python",
   "name": "python",
   "nbconvert_exporter": "python",
   "pygments_lexer": "ipython3",
   "version": "3.11.9"
  }
 },
 "nbformat": 4,
 "nbformat_minor": 5
}
