{
 "cells": [
  {
   "cell_type": "code",
   "execution_count": null,
   "metadata": {},
   "outputs": [],
   "source": [
    "import os\n",
    "import sys\n",
    "\n",
    "# Add the project root directory to sys.path\n",
    "project_root = os.path.abspath(os.path.join(os.getcwd(), '..'))\n",
    "sys.path.append(project_root)"
   ]
  },
  {
   "cell_type": "code",
   "execution_count": null,
   "metadata": {},
   "outputs": [],
   "source": [
    "from src.prepare_data import load_dataset\n",
    "\n",
    "# dataset_file = \"../intermediate_data/prepared_dataset_using_arc_training_second.pth\"\n",
    "dataset_file = \"../intermediate_data/prepared_dataset_using_barc.pth\" # _using_arc_training\n",
    "dataset, data_sources, source_ranges = load_dataset(dataset_file)\n",
    "\n",
    "print(data_sources, source_ranges)"
   ]
  },
  {
   "cell_type": "markdown",
   "metadata": {},
   "source": [
    "### Function to plot input/output pairs of a task"
   ]
  },
  {
   "cell_type": "code",
   "execution_count": null,
   "metadata": {},
   "outputs": [],
   "source": [
    "from   matplotlib import colors\n",
    "import matplotlib.pyplot as plt\n",
    "\n",
    "# 0:black, 1:blue, 2:red, 3:green, 4:yellow, # 5:gray, 6:magenta, 7:orange, 8:sky, 9:brown\n",
    "\n",
    "cmap = colors.ListedColormap(\n",
    "    ['#000000', '#0074D9', '#FF4136', '#2ECC40', '#FFDC00',\n",
    "     '#AAAAAA', '#F012BE', '#FF851B', '#7FDBFF', '#870C25'])\n",
    "norm = colors.Normalize(vmin=0, vmax=9)\n",
    "\n",
    "plt.figure(figsize=(3, 1), dpi=150)\n",
    "plt.imshow([list(range(10))], cmap=cmap, norm=norm)\n",
    "plt.xticks(list(range(10)))\n",
    "plt.yticks([])\n",
    "plt.show()"
   ]
  },
  {
   "cell_type": "code",
   "execution_count": null,
   "metadata": {},
   "outputs": [],
   "source": [
    "def plot_task(task, i, t):\n",
    "    \"\"\"    Plots the first train and test pairs of a specified task,\n",
    "    using same color scheme as the ARC app    \"\"\"    \n",
    "    \n",
    "    num_train = len(task['train'])\n",
    "    \n",
    "    w = num_train\n",
    "    fig, axs = plt.subplots(2, w, figsize=(3*w, 3*2))\n",
    "    plt.suptitle(f'Set #{i}, {t}:', fontsize=20, fontweight='bold', y=1)\n",
    "    \n",
    "    for j in range(num_train):     \n",
    "        plot_one(axs[0, j], task, j, 'train', 'input')\n",
    "        plot_one(axs[1, j], task, j, 'train', 'output')        \n",
    "       \n",
    "    fig.patch.set_linewidth(5)\n",
    "    fig.patch.set_edgecolor('black') \n",
    "    fig.patch.set_facecolor('#dddddd')\n",
    "   \n",
    "    plt.tight_layout()\n",
    "    \n",
    "    plt.show()  \n",
    "\n",
    "def plot_one(ax, task_data, i, train_or_test, input_or_output):\n",
    "    input_matrix = task_data[train_or_test][i][input_or_output]\n",
    "    im = ax.imshow(input_matrix, cmap=cmap, norm=norm)\n",
    "    ax.grid(True, which='both', color='lightgrey', linewidth=0.5)\n",
    "    \n",
    "    plt.setp(plt.gcf().get_axes(), xticklabels=[], yticklabels=[])\n",
    "    ax.set_xticks([x-0.5 for x in range(1 + len(input_matrix[0]))])     \n",
    "    ax.set_yticks([x-0.5 for x in range(1 + len(input_matrix))])\n",
    "    \n",
    "    # Add text annotations\n",
    "    for y in range(len(input_matrix)):\n",
    "        for x in range(len(input_matrix[0])):\n",
    "            value = input_matrix[y][x]\n",
    "            text_color = 'white' if value > 5 or value == 0 else 'black'  # Adjust this threshold as needed\n",
    "            ax.text(x, y, str(value), ha='center', va='center', color=text_color)\n",
    "    \n",
    "    ax.set_title(f'{train_or_test} {input_or_output}')"
   ]
  },
  {
   "cell_type": "code",
   "execution_count": null,
   "metadata": {},
   "outputs": [],
   "source": [
    "from pprint import pprint\n",
    "from pprint import pformat\n",
    "from src.prepare_data import load_dataset\n",
    "from src.token import SpecialToken\n",
    "import random\n",
    "from src.utils.helper import detokenize_grid\n",
    "\n",
    "def find_source(index):\n",
    "    for source, (start, end) in source_ranges.items():\n",
    "        if start <= index <= end:\n",
    "            return source\n",
    "    return \"Unknown source\""
   ]
  },
  {
   "cell_type": "code",
   "execution_count": null,
   "metadata": {},
   "outputs": [],
   "source": [
    "# Create a list of indices and shuffle it\n",
    "# indices = list(range(*list(source_ranges.values())[-1]))\n",
    "\n",
    "# random.shuffle(indices)\n",
    "\n",
    "dataset.set_augment_seed(0)\n",
    "\n",
    "# Iterate over the shuffled indices\n",
    "for i in range(0, len(dataset), 1000): # range(0, 9000, 6000): # indices:\n",
    "    source = find_source(i)\n",
    "    sequence = dataset[i]\n",
    "\n",
    "    # print('sequence', sequence['task'])\n",
    "    # Extract task data\n",
    "    task = {'train': []}\n",
    "    solution = None\n",
    "    \n",
    "    current_section = None\n",
    "    current_data = []\n",
    "    \n",
    "    for element in sequence['task']:\n",
    "        token = element[0]\n",
    "        if token == SpecialToken.START_INPUT.value:\n",
    "            current_section = 'input'\n",
    "            current_data = []\n",
    "        elif token == SpecialToken.END_INPUT.value:\n",
    "            if current_section == 'input':\n",
    "                task['train'].append({'input': detokenize_grid(current_data)})\n",
    "        elif token == SpecialToken.START_OUTPUT.value:\n",
    "            current_section = 'output'\n",
    "            current_data = []\n",
    "        elif token == SpecialToken.END_OUTPUT.value:\n",
    "            if current_section == 'output':\n",
    "                task['train'][-1]['output'] = detokenize_grid(current_data)\n",
    "        elif token == SpecialToken.END.value:\n",
    "            break\n",
    "        else:\n",
    "            current_data.append(token)\n",
    "\n",
    "    # print('task', task)\n",
    "    # Plot task\n",
    "    plot_task(task, i, f\"{source}, {i}\")\n",
    "    \n",
    "    # Print task data\n",
    "    # print('#train', pformat(task['train']).replace('\\n', ''))\n",
    "    # print('original', dataset.data[i])\n",
    "    # print('fetched', sequence)"
   ]
  },
  {
   "cell_type": "code",
   "execution_count": null,
   "metadata": {},
   "outputs": [],
   "source": []
  }
 ],
 "metadata": {
  "kaggle": {
   "accelerator": "none",
   "dataSources": [
    {
     "databundleVersionId": 8951125,
     "sourceId": 67357,
     "sourceType": "competition"
    }
   ],
   "dockerImageVersionId": 30732,
   "isGpuEnabled": false,
   "isInternetEnabled": true,
   "language": "python",
   "sourceType": "notebook"
  },
  "kernelspec": {
   "display_name": "Python 3 (ipykernel)",
   "language": "python",
   "name": "python3"
  },
  "language_info": {
   "codemirror_mode": {
    "name": "ipython",
    "version": 3
   },
   "file_extension": ".py",
   "mimetype": "text/x-python",
   "name": "python",
   "nbconvert_exporter": "python",
   "pygments_lexer": "ipython3",
   "version": "3.11.9"
  }
 },
 "nbformat": 4,
 "nbformat_minor": 4
}
