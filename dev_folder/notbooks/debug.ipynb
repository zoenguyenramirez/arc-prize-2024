{
 "cells": [
  {
   "cell_type": "code",
   "execution_count": null,
   "id": "a8a70daf-a251-4f3c-b622-1428936c641c",
   "metadata": {},
   "outputs": [],
   "source": [
    "import torch\n",
    "\n",
    "train = torch.load('../train_validate_batch.pt', map_location=torch.device('cpu'))\n",
    "sub = torch.load('../adaptive_submission[2].pt', map_location=torch.device('cpu'))\n",
    "print('train', train.keys())\n",
    "print('sub', sub.keys())"
   ]
  },
  {
   "cell_type": "code",
   "execution_count": null,
   "id": "8af21c25-fa5a-4553-bf2d-9ce09345a286",
   "metadata": {},
   "outputs": [],
   "source": [
    "print(sub['outputs'][:, 113:115])\n",
    "print(train['outputs'][:, 113:115])"
   ]
  },
  {
   "cell_type": "code",
   "execution_count": null,
   "id": "e546f0fc-c60f-4898-8e9f-8eda359900e2",
   "metadata": {},
   "outputs": [],
   "source": [
    "sub_mask[0] == batch_mask[0, :sub_mask.shape[1], :sub_mask.shape[2]]"
   ]
  },
  {
   "cell_type": "code",
   "execution_count": null,
   "id": "9faa9130-908c-4efb-a63c-be58dbd8f6c6",
   "metadata": {},
   "outputs": [],
   "source": [
    "print(sub['input_ids'][:, 113:115])\n",
    "print(train['input_ids'][:, 113:115])"
   ]
  },
  {
   "cell_type": "code",
   "execution_count": null,
   "id": "bdad852b-9e6f-4f36-bdf9-b6838732a231",
   "metadata": {},
   "outputs": [],
   "source": [
    "sub_output[0][154:157]"
   ]
  }
 ],
 "metadata": {
  "kernelspec": {
   "display_name": "Python 3 (ipykernel)",
   "language": "python",
   "name": "python3"
  },
  "language_info": {
   "codemirror_mode": {
    "name": "ipython",
    "version": 3
   },
   "file_extension": ".py",
   "mimetype": "text/x-python",
   "name": "python",
   "nbconvert_exporter": "python",
   "pygments_lexer": "ipython3",
   "version": "3.11.9"
  }
 },
 "nbformat": 4,
 "nbformat_minor": 5
}
