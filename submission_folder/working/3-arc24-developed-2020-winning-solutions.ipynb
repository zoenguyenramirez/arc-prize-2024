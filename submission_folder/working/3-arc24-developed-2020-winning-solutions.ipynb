{
 "cells": [
  {
   "cell_type": "code",
   "execution_count": null,
   "id": "927c7692",
   "metadata": {
    "papermill": {
     "duration": 1.12193,
     "end_time": "2024-06-24T18:55:21.182482",
     "exception": false,
     "start_time": "2024-06-24T18:55:20.060552",
     "status": "completed"
    },
    "tags": []
   },
   "outputs": [],
   "source": [
    "!ls ../input/*"
   ]
  },
  {
   "cell_type": "code",
   "execution_count": null,
   "id": "ac34a4b8-fc56-4485-a69e-d810cfedb1b1",
   "metadata": {},
   "outputs": [],
   "source": [
    "%run run.py"
   ]
  }
 ],
 "metadata": {
  "kaggle": {
   "accelerator": "none",
   "dataSources": [
    {
     "databundleVersionId": 8876241,
     "sourceId": 67357,
     "sourceType": "competition"
    },
    {
     "datasetId": 5156304,
     "sourceId": 8615222,
     "sourceType": "datasetVersion"
    }
   ],
   "dockerImageVersionId": 30626,
   "isGpuEnabled": false,
   "isInternetEnabled": false,
   "language": "python",
   "sourceType": "notebook"
  },
  "kernelspec": {
   "display_name": "Python 3 (ipykernel)",
   "language": "python",
   "name": "python3"
  },
  "language_info": {
   "codemirror_mode": {
    "name": "ipython",
    "version": 3
   },
   "file_extension": ".py",
   "mimetype": "text/x-python",
   "name": "python",
   "nbconvert_exporter": "python",
   "pygments_lexer": "ipython3",
   "version": "3.11.9"
  },
  "papermill": {
   "default_parameters": {},
   "duration": 15645.313648,
   "end_time": "2024-06-24T23:15:56.672882",
   "environment_variables": {},
   "exception": null,
   "input_path": "__notebook__.ipynb",
   "output_path": "__notebook__.ipynb",
   "parameters": {},
   "start_time": "2024-06-24T18:55:11.359234",
   "version": "2.4.0"
  }
 },
 "nbformat": 4,
 "nbformat_minor": 5
}
