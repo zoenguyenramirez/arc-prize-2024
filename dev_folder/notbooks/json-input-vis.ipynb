{
 "cells": [
  {
   "cell_type": "code",
   "execution_count": null,
   "metadata": {},
   "outputs": [],
   "source": [
    "import os\n",
    "import sys\n",
    "from plot_funcs import plot_task\n",
    "from pprint import pformat\n",
    "\n",
    "# Add the project root directory to sys.path\n",
    "project_root = os.path.abspath(os.path.join(os.getcwd(), '..'))\n",
    "sys.path.append(project_root)\n",
    "\n",
    "from src.load_data import load_from_json\n",
    "\n",
    "data_source = 'arc-agi_evaluation' # 'arc-agi_training' # 'arc-agi_test' # \n",
    "training_challenges, training_solutions = load_from_json(data_source, '../input_data/')"
   ]
  },
  {
   "cell_type": "code",
   "execution_count": null,
   "metadata": {},
   "outputs": [],
   "source": [
    "%matplotlib widget\n",
    "\n",
    "\n",
    "# from pprint import pprint\n",
    "from pprint import pformat\n",
    "\n",
    "for i in range(109, 110): # len(training_challenges)\n",
    "    t=list(training_challenges)[i]\n",
    "    task=training_challenges[t]\n",
    "    task_solution = training_solutions[t]\n",
    "    plot_task(task,  task_solution, i, t) # , save_prefix = data_source\n",
    "\n",
    "    print('#train', pformat(task['train']).replace('\\n', ''))\n",
    "    print('#test', pformat(task['test']).replace('\\n', ''))\n",
    "    print('#test_solution', pformat(task_solution).replace('\\n', ''))"
   ]
  },
  {
   "cell_type": "code",
   "execution_count": null,
   "metadata": {},
   "outputs": [],
   "source": [
    "# to find a task by name\n",
    "# print(training_challenges.keys())\n",
    "\n",
    "key = '3c9b0459'\n",
    "i = list(training_challenges.keys()).index(key)\n",
    "task=training_challenges[key]\n",
    "task_solutions = training_solutions[key]\n",
    "plot_task(task,  task_solutions, i, key) # , save_prefix = data_source\n",
    "\n",
    "print('#train', pformat(task['train']).replace('\\n', ''))\n",
    "print('#test', pformat(task['test']).replace('\\n', ''))"
   ]
  },
  {
   "cell_type": "code",
   "execution_count": null,
   "metadata": {},
   "outputs": [],
   "source": [
    "# to find a task by properties\n",
    "\n",
    "for i in range(len(training_challenges)):\n",
    "    t=list(training_challenges)[i]\n",
    "    task=training_challenges[t]\n",
    "\n",
    "    # if len(task['train']) == 2:\n",
    "    #     if len(task['train'][0]['input']) == 3 and len(task['train'][1]['input']) == 3:\n",
    "    #         task_solution = training_solutions[t]\n",
    "    #         plot_task(task,  task_solution, i, t) # , save_prefix = data_source\n",
    "\n",
    "    if len(task['test']) == 2:\n",
    "        task_solution = training_solutions[t]\n",
    "        plot_task(task,  task_solution, i, t) # , save_prefix = data_source\n",
    "    \n",
    "    # print('#train', pformat(task['train']).replace('\\n', ''))\n",
    "    # print('#test', pformat(task['test']).replace('\\n', ''))\n",
    "    # print('#test_solution', pformat(task_solution).replace('\\n', ''))"
   ]
  },
  {
   "cell_type": "code",
   "execution_count": null,
   "metadata": {},
   "outputs": [],
   "source": []
  }
 ],
 "metadata": {
  "kaggle": {
   "accelerator": "none",
   "dataSources": [
    {
     "databundleVersionId": 8951125,
     "sourceId": 67357,
     "sourceType": "competition"
    }
   ],
   "dockerImageVersionId": 30732,
   "isGpuEnabled": false,
   "isInternetEnabled": true,
   "language": "python",
   "sourceType": "notebook"
  },
  "kernelspec": {
   "display_name": "Python 3 (ipykernel)",
   "language": "python",
   "name": "python3"
  },
  "language_info": {
   "codemirror_mode": {
    "name": "ipython",
    "version": 3
   },
   "file_extension": ".py",
   "mimetype": "text/x-python",
   "name": "python",
   "nbconvert_exporter": "python",
   "pygments_lexer": "ipython3",
   "version": "3.11.9"
  }
 },
 "nbformat": 4,
 "nbformat_minor": 4
}
